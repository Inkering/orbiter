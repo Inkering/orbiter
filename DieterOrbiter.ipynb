{
 "cells": [
  {
   "cell_type": "markdown",
   "metadata": {},
   "source": [
    "# Project 3\n",
    "\n",
    "Florian Michael-Schwarzinger and Dieter Brehm - Project 3 - Fall 2018\n"
   ]
  },
  {
   "cell_type": "code",
   "execution_count": 1,
   "metadata": {},
   "outputs": [],
   "source": [
    "# Configure Jupyter so figures appear in the notebook\n",
    "%matplotlib inline\n",
    "\n",
    "# Configure Jupyter to display the assigned value after an assignment\n",
    "%config InteractiveShell.ast_node_interactivity='last_expr_or_assign'\n",
    "\n",
    "# import functions from the modsim.py module\n",
    "from modsim import *"
   ]
  },
  {
   "cell_type": "markdown",
   "metadata": {},
   "source": [
    "## Question\n",
    "\n",
    "Explanation goes here\n",
    "\n",
    "## Model\n",
    "\n",
    "Explanation goes here"
   ]
  },
  {
   "cell_type": "code",
   "execution_count": 2,
   "metadata": {},
   "outputs": [
    {
     "data": {
      "text/html": [
       "meter"
      ],
      "text/latex": [
       "$meter$"
      ],
      "text/plain": [
       "<Unit('meter')>"
      ]
     },
     "execution_count": 2,
     "metadata": {},
     "output_type": "execute_result"
    }
   ],
   "source": [
    "# Here are the units we'll need\n",
    "\n",
    "s = UNITS.second\n",
    "N = UNITS.newton\n",
    "kg = UNITS.kilogram\n",
    "m = UNITS.meter"
   ]
  },
  {
   "cell_type": "code",
   "execution_count": 5,
   "metadata": {},
   "outputs": [
    {
     "ename": "NameError",
     "evalue": "name 'r_0' is not defined",
     "output_type": "error",
     "traceback": [
      "\u001b[1;31m---------------------------------------------------------------------------\u001b[0m",
      "\u001b[1;31mNameError\u001b[0m                                 Traceback (most recent call last)",
      "\u001b[1;32m<ipython-input-5-03f7f53bd9da>\u001b[0m in \u001b[0;36m<module>\u001b[1;34m()\u001b[0m\n\u001b[0;32m      5\u001b[0m                 \u001b[0mepo\u001b[0m \u001b[1;33m=\u001b[0m \u001b[1;36m190756\u001b[0m \u001b[1;33m*\u001b[0m \u001b[0mm\u001b[0m\u001b[1;33m,\u001b[0m\u001b[1;33m\u001b[0m\u001b[0m\n\u001b[0;32m      6\u001b[0m                 \u001b[0mr_0\u001b[0m \u001b[1;33m=\u001b[0m \u001b[0mr_earth\u001b[0m \u001b[1;33m+\u001b[0m \u001b[0mepo\u001b[0m\u001b[1;33m,\u001b[0m\u001b[1;33m\u001b[0m\u001b[0m\n\u001b[1;32m----> 7\u001b[1;33m                 \u001b[0mx0\u001b[0m \u001b[1;33m=\u001b[0m \u001b[0mr_0\u001b[0m\u001b[1;33m,\u001b[0m\u001b[1;33m\u001b[0m\u001b[0m\n\u001b[0m\u001b[0;32m      8\u001b[0m                 \u001b[0my0\u001b[0m \u001b[1;33m=\u001b[0m \u001b[1;36m0\u001b[0m \u001b[1;33m*\u001b[0m \u001b[0mm\u001b[0m\u001b[1;33m,\u001b[0m\u001b[1;33m\u001b[0m\u001b[0m\n\u001b[0;32m      9\u001b[0m                 \u001b[0mvx0\u001b[0m \u001b[1;33m=\u001b[0m \u001b[1;36m0\u001b[0m \u001b[1;33m*\u001b[0m \u001b[0mm\u001b[0m \u001b[1;33m/\u001b[0m \u001b[0ms\u001b[0m\u001b[1;33m,\u001b[0m\u001b[1;33m\u001b[0m\u001b[0m\n",
      "\u001b[1;31mNameError\u001b[0m: name 'r_0' is not defined"
     ]
    }
   ],
   "source": [
    "r_earth = 6.3781e6\n",
    "epo = 190756\n",
    "r_0 = r_earth + epo\n",
    "\n",
    "param = Params(r_earth = 6.3781e6 * m,\n",
    "                epo = 190756 * m,\n",
    "                r_0 = r_earth + epo,\n",
    "                x0 = r_0,\n",
    "                y0 = 0 * m,\n",
    "                vx0 = 0 * m / s,\n",
    "                vy0 = -7792 * m / s,\n",
    "                G=6.674e-11 * N / kg**2 * m**2,\n",
    "                m_earth=5.972e24 * kg,\n",
    "                m_apollo=13284 * kg,\n",
    "                t_0=0 * s,\n",
    "                t_end=100000 * s)"
   ]
  },
  {
   "cell_type": "code",
   "execution_count": null,
   "metadata": {},
   "outputs": [],
   "source": [
    "def make_system(params):\n",
    "    \"\"\"Make a system object.\n",
    "    \n",
    "    params: Params object with r_earth, epo, r_0, x0, y0,\n",
    "                vx0, vy0, G, m_earth, m_apollo, t_0, t_end\n",
    "               \n",
    "    returns: System object\n",
    "    \"\"\"\n",
    "    \n",
    "    unpack(params)\n",
    "    \n",
    "    init = State(x = x0,\n",
    "                 y = y0,\n",
    "                 vx = vx0,\n",
    "                 vy = vy0)\n",
    "                 \n",
    "    sys = System(init=init,\n",
    "                 G=G,\n",
    "                 m_earth=m_earth,\n",
    "                 m_apollo=m_apollo,\n",
    "                 t_0=t_0,\n",
    "                 t_end=t_end)\n",
    "    return sys\n",
    "\n",
    "system = make_system(param)"
   ]
  },
  {
   "cell_type": "code",
   "execution_count": null,
   "metadata": {},
   "outputs": [],
   "source": [
    "# Here's a function that computes the force of gravity\n",
    "\n",
    "def universal_gravitation(state, system):\n",
    "    \"\"\"Computes gravitational force.\n",
    "    \n",
    "    state: State object with distance r\n",
    "    system: System object with m1, m2, and G\n",
    "    \"\"\"\n",
    "    x, y, vx, vy = state\n",
    "    unpack(system)\n",
    "    \n",
    "    pos = Vector(x, y)\n",
    "    \n",
    "    Fx, Fy = pol2cart(pos.angle, G * m_earth * m_apollo / pos.mag **2) \n",
    "    \n",
    "    force = Vector(Fx, Fy)\n",
    "    \n",
    "    return force"
   ]
  },
  {
   "cell_type": "code",
   "execution_count": null,
   "metadata": {},
   "outputs": [],
   "source": [
    "# Test our gravitation function to see if it seem reasonable.\n",
    "universal_gravitation(system[0], system)"
   ]
  },
  {
   "cell_type": "code",
   "execution_count": null,
   "metadata": {},
   "outputs": [],
   "source": [
    "def slope_func(state, t, system):\n",
    "    \"\"\"Compute derivatives of the state.\n",
    "    \n",
    "    state: position, velocity\n",
    "    t: time\n",
    "    system: System object containing `g`\n",
    "    \n",
    "    returns: derivatives of y and v\n",
    "    \"\"\"\n",
    "    x, y, vx, vy = state\n",
    "    unpack(system)\n",
    "\n",
    "    acc_grav = universal_gravitation(state, system) / m_apollo\n",
    "\n",
    "    dydt = Vector(vx, vy)\n",
    "    dvdt = -acc_grav\n",
    "    \n",
    "    return dydt.x, dydt.y, dvdt.x, dvdt.y"
   ]
  },
  {
   "cell_type": "code",
   "execution_count": null,
   "metadata": {},
   "outputs": [],
   "source": [
    "# Always test the slope function!\n",
    "slope_func(init, 0, system)"
   ]
  },
  {
   "cell_type": "code",
   "execution_count": null,
   "metadata": {},
   "outputs": [],
   "source": [
    "# make an event function to stop the simulation when the\n",
    "# apollo module crashes into the earth\n",
    "\n",
    "def event_func(state, t, system):\n",
    "    \"\"\"Error function used to stop the simulation when the\n",
    "        spacecraft crashes into the earth.\n",
    "    \n",
    "    state object: \n",
    "    current timestamp: \n",
    "    system object:\n",
    "               \n",
    "    returns: num that is 0 when crash occurs\n",
    "    \"\"\"\n",
    "    x, y, vx, vy = state\n",
    "    pos = Vector(x, y)\n",
    "    return pos.mag - r_earth"
   ]
  },
  {
   "cell_type": "code",
   "execution_count": null,
   "metadata": {},
   "outputs": [],
   "source": [
    "event_func(init, 0, system)"
   ]
  },
  {
   "cell_type": "code",
   "execution_count": null,
   "metadata": {},
   "outputs": [],
   "source": [
    "# Finally we can run the simulation\n",
    "system = make_system(param)\n",
    "results, details = run_ode_solver(system, slope_func, events=event_func)"
   ]
  },
  {
   "cell_type": "code",
   "execution_count": null,
   "metadata": {},
   "outputs": [],
   "source": [
    "# Here's how long it takes...\n",
    "\n",
    "t_final = get_last_label(results) * s"
   ]
  },
  {
   "cell_type": "code",
   "execution_count": null,
   "metadata": {},
   "outputs": [],
   "source": [
    "# ... expressed in units we understand\n",
    "\n",
    "t_final.to(UNITS.hour)"
   ]
  },
  {
   "cell_type": "code",
   "execution_count": null,
   "metadata": {},
   "outputs": [],
   "source": [
    "# Before plotting, we run the simulation again with `t_eval`\n",
    "ts = linspace(t_0, t_final, 1000)\n",
    "results, details = run_ode_solver(system, slope_func, events=event_func, t_eval=ts)\n",
    "\n",
    "type(results)"
   ]
  },
  {
   "cell_type": "code",
   "execution_count": null,
   "metadata": {},
   "outputs": [],
   "source": [
    "#wrap this plotting into a function\n",
    "def plot_orbit(simulation_results, earth, potential_path):\n",
    "    \"\"\"Pretty plot the results of the simulation.\n",
    "    \n",
    "    simulation_results: Timeframe object that is the result of the simulation\n",
    "    earth: bool, whether or not you want to draw the earth in the plot\n",
    "    potential_path: bool, whether or not you want to keep running the simulation\n",
    "        in a second stage after the ship crashes into the earth to see what would\n",
    "        have happened\n",
    "               \n",
    "    returns: tuple of two matplotlib figure objects\n",
    "    \"\"\"\n",
    "    x = simulation_results.x / 1000\n",
    "    y = simulation_results.y / 1000;\n",
    "    \n",
    "    # plot x and y versus time of the simulation\n",
    "    # to show movement trends\n",
    "    fig1 = plt.figure(figsize=(8, 8), dpi=180)\n",
    "    ax1 = fig1.add_subplot(211)\n",
    "    ax1.plot(results.index / 60 / 60, x, label='x')\n",
    "    ax1.plot(results.index / 60 / 60, y, label='y')\n",
    "    ax1.set_ylabel(\"Position (km)\")\n",
    "    ax1.set_xlabel(\"Time (hours)\")\n",
    "    ax1.legend([\"x\", \"y\"])\n",
    "    ax1.set_title(\"Distance of apollo module from center of earth\");\n",
    "    \n",
    "    # plot x vs. y to show movement of the spacecraft\n",
    "    fig2 = plt.figure(figsize=(7, 16), dpi=180)\n",
    "    ax1 = fig2.add_subplot(211)\n",
    "    ax1.plot(x, y, \"r\")\n",
    "    ax1.set_ylabel(\"Y Position (km)\")\n",
    "    ax1.set_xlabel(\"X Position (km)\")\n",
    "    ax1.set_title(\"X and Y position of Apollo 11\")\n",
    "    \n",
    "    # add a circle to represent the earth\n",
    "    # the plot function didn't like using r_earth\n",
    "    if earth == True:\n",
    "        circle1 = plt.Circle((0, 0), radius=6.3781e6 / 1000, color='b')\n",
    "        ax1.add_artist(circle1)\n",
    "    \n",
    "    return fig1, fig2"
   ]
  },
  {
   "cell_type": "code",
   "execution_count": null,
   "metadata": {},
   "outputs": [],
   "source": [
    "def run_simulation():\n",
    "    \"\"\"Wrapper to run the simulation.\n",
    "               \n",
    "    returns: results in a Timeframe object\n",
    "    \"\"\"\n",
    "        \n",
    "    r_earth = 6.3781e6\n",
    "    epo = 190756\n",
    "\n",
    "    r_0 = (r_earth + epo)\n",
    "\n",
    "    init = State(x = r_0 * m,\n",
    "                 y = 0 * m,\n",
    "                 vx = 0 * m / s,\n",
    "                 vy = 7792 * m / s, )\n",
    "    \n",
    "    system = System(init=init,\n",
    "                G=6.674e-11 * N / kg**2 * m**2,\n",
    "                m1=5.972e24 * kg,\n",
    "                m2=292865 * kg,\n",
    "                t_0=0 * s,\n",
    "                t_end=100000 * s)\n",
    "    \n",
    "    results, details = run_ode_solver(system, slope_func, events=event_func)\n",
    "    t_final = get_last_label(results) * s\n",
    "    t_final.to(UNITS.hour)\n",
    "    \n",
    "    ts = linspace(t_0, t_final, 1000)\n",
    "    results, details = run_ode_solver(system, \n",
    "                                      slope_func,\n",
    "                                      events=event_func,\n",
    "                                      t_eval=ts)\n",
    "    \n",
    "    return results"
   ]
  },
  {
   "cell_type": "code",
   "execution_count": null,
   "metadata": {},
   "outputs": [],
   "source": [
    "#results_blah = run_simulation()\n",
    "plot1, plot2 = plot_orbit(results, True, True)"
   ]
  },
  {
   "cell_type": "markdown",
   "metadata": {},
   "source": [
    "## Optimizer - Velocity\n",
    "Here we will try to optimize the craft's velocity in order to get as clean and sustainable EPO as possible. I.E an orbit which keeps the spacecraft as close to the ideal EPO orbit as long as possible.\n"
   ]
  },
  {
   "cell_type": "code",
   "execution_count": null,
   "metadata": {},
   "outputs": [],
   "source": [
    "# params object to set up the system for optimization\n",
    "params = Params"
   ]
  },
  {
   "cell_type": "markdown",
   "metadata": {},
   "source": [
    "## Validation\n",
    "\n",
    "Use the mission flight report as validation. May just be a plot to diagram comparison or a quote from the report about flight statistics."
   ]
  },
  {
   "cell_type": "code",
   "execution_count": null,
   "metadata": {},
   "outputs": [],
   "source": []
  }
 ],
 "metadata": {
  "kernelspec": {
   "display_name": "Python 3",
   "language": "python",
   "name": "python3"
  },
  "language_info": {
   "codemirror_mode": {
    "name": "ipython",
    "version": 3
   },
   "file_extension": ".py",
   "mimetype": "text/x-python",
   "name": "python",
   "nbconvert_exporter": "python",
   "pygments_lexer": "ipython3",
   "version": "3.6.6"
  }
 },
 "nbformat": 4,
 "nbformat_minor": 2
}
