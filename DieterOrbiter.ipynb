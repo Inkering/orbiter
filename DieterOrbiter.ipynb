{
 "cells": [
  {
   "cell_type": "markdown",
   "metadata": {},
   "source": [
    "# Project 3\n",
    "\n",
    "Florian Michael-Schwarzinger and Dieter Brehm - Project 3 - Fall 2018\n",
    "\n",
    "A project examining the orbit characteristics of the apollo 11 spacecraft."
   ]
  },
  {
   "cell_type": "code",
   "execution_count": 3,
   "metadata": {},
   "outputs": [],
   "source": [
    "# Configure Jupyter so figures appear in the notebook\n",
    "%matplotlib inline\n",
    "\n",
    "# Configure Jupyter to display the assigned value after an assignment\n",
    "%config InteractiveShell.ast_node_interactivity='last_expr_or_assign'\n",
    "\n",
    "# import functions from the modsim.py module\n",
    "from modsim import *"
   ]
  },
  {
   "cell_type": "markdown",
   "metadata": {},
   "source": [
    "## Question : How long can the apollo 11 spacecraft stay in a parking orbit around the earth? Additionally, what is the ideal velocity for the spacecraft to have to stay in a consistent parking orbit?\n",
    "\n",
    "(context goes here)\n",
    "\n",
    "## Model\n",
    "\n",
    "We will model this situation by considering the spacecraft to be a point mass and the earth to be a point in space with a mass and radius. From there, we apply the law of universal gravitation."
   ]
  },
  {
   "cell_type": "code",
   "execution_count": 45,
   "metadata": {},
   "outputs": [
    {
     "data": {
      "text/html": [
       "meter"
      ],
      "text/latex": [
       "$meter$"
      ],
      "text/plain": [
       "<Unit('meter')>"
      ]
     },
     "execution_count": 45,
     "metadata": {},
     "output_type": "execute_result"
    }
   ],
   "source": [
    "# Here are the units we'll need\n",
    "\n",
    "s = UNITS.second\n",
    "N = UNITS.newton\n",
    "kg = UNITS.kilogram\n",
    "m = UNITS.meter"
   ]
  },
  {
   "cell_type": "markdown",
   "metadata": {},
   "source": [
    "First, we need to define a number of parameters which will describe our system. Namely, the radius and mass of the earth, the mass of the apollo spacecraft, the gravitational constant, and the ideal earth parking orbit (EPO) altitude."
   ]
  },
  {
   "cell_type": "code",
   "execution_count": 46,
   "metadata": {},
   "outputs": [
    {
     "data": {
      "text/html": [
       "<div>\n",
       "<style scoped>\n",
       "    .dataframe tbody tr th:only-of-type {\n",
       "        vertical-align: middle;\n",
       "    }\n",
       "\n",
       "    .dataframe tbody tr th {\n",
       "        vertical-align: top;\n",
       "    }\n",
       "\n",
       "    .dataframe thead th {\n",
       "        text-align: right;\n",
       "    }\n",
       "</style>\n",
       "<table border=\"1\" class=\"dataframe\">\n",
       "  <thead>\n",
       "    <tr style=\"text-align: right;\">\n",
       "      <th></th>\n",
       "      <th>values</th>\n",
       "    </tr>\n",
       "  </thead>\n",
       "  <tbody>\n",
       "    <tr>\n",
       "      <th>r_earth</th>\n",
       "      <td>6378100.0 meter</td>\n",
       "    </tr>\n",
       "    <tr>\n",
       "      <th>epo</th>\n",
       "      <td>190756 meter</td>\n",
       "    </tr>\n",
       "    <tr>\n",
       "      <th>r_0</th>\n",
       "      <td>6.56886e+06</td>\n",
       "    </tr>\n",
       "    <tr>\n",
       "      <th>x0</th>\n",
       "      <td>6.56886e+06</td>\n",
       "    </tr>\n",
       "    <tr>\n",
       "      <th>y0</th>\n",
       "      <td>0 meter</td>\n",
       "    </tr>\n",
       "    <tr>\n",
       "      <th>vx0</th>\n",
       "      <td>0.0 meter / second</td>\n",
       "    </tr>\n",
       "    <tr>\n",
       "      <th>vy0</th>\n",
       "      <td>-7792.0 meter / second</td>\n",
       "    </tr>\n",
       "    <tr>\n",
       "      <th>G</th>\n",
       "      <td>6.674e-11 meter ** 2 * newton / kilogram ** 2</td>\n",
       "    </tr>\n",
       "    <tr>\n",
       "      <th>m_earth</th>\n",
       "      <td>5.972e+24 kilogram</td>\n",
       "    </tr>\n",
       "    <tr>\n",
       "      <th>m_apollo</th>\n",
       "      <td>13284 kilogram</td>\n",
       "    </tr>\n",
       "    <tr>\n",
       "      <th>t_0</th>\n",
       "      <td>0 second</td>\n",
       "    </tr>\n",
       "    <tr>\n",
       "      <th>t_end</th>\n",
       "      <td>100000 second</td>\n",
       "    </tr>\n",
       "  </tbody>\n",
       "</table>\n",
       "</div>"
      ],
      "text/plain": [
       "r_earth                                   6378100.0 meter\n",
       "epo                                          190756 meter\n",
       "r_0                                           6.56886e+06\n",
       "x0                                            6.56886e+06\n",
       "y0                                                0 meter\n",
       "vx0                                    0.0 meter / second\n",
       "vy0                                -7792.0 meter / second\n",
       "G           6.674e-11 meter ** 2 * newton / kilogram ** 2\n",
       "m_earth                                5.972e+24 kilogram\n",
       "m_apollo                                   13284 kilogram\n",
       "t_0                                              0 second\n",
       "t_end                                       100000 second\n",
       "dtype: object"
      ]
     },
     "execution_count": 46,
     "metadata": {},
     "output_type": "execute_result"
    }
   ],
   "source": [
    "r_earth = 6.3781e6\n",
    "epo = 190756\n",
    "r_0 = r_earth + epo\n",
    "\n",
    "param = Params(r_earth = 6.3781e6 * m,\n",
    "                epo = 190756 * m,\n",
    "                r_0 = r_earth + epo,\n",
    "                x0 = r_0,\n",
    "                y0 = 0 * m,\n",
    "                vx0 = 0 * m / s,\n",
    "                vy0 = -7792 * m / s,\n",
    "                G=6.674e-11 * N / kg**2 * m**2,\n",
    "                m_earth=5.972e24 * kg,\n",
    "                m_apollo=13284 * kg,\n",
    "                t_0=0 * s,\n",
    "                t_end=100000 * s)"
   ]
  },
  {
   "cell_type": "code",
   "execution_count": 47,
   "metadata": {},
   "outputs": [
    {
     "data": {
      "text/html": [
       "<div>\n",
       "<style scoped>\n",
       "    .dataframe tbody tr th:only-of-type {\n",
       "        vertical-align: middle;\n",
       "    }\n",
       "\n",
       "    .dataframe tbody tr th {\n",
       "        vertical-align: top;\n",
       "    }\n",
       "\n",
       "    .dataframe thead th {\n",
       "        text-align: right;\n",
       "    }\n",
       "</style>\n",
       "<table border=\"1\" class=\"dataframe\">\n",
       "  <thead>\n",
       "    <tr style=\"text-align: right;\">\n",
       "      <th></th>\n",
       "      <th>values</th>\n",
       "    </tr>\n",
       "  </thead>\n",
       "  <tbody>\n",
       "    <tr>\n",
       "      <th>init</th>\n",
       "      <td>x                6.56886e+06\n",
       "y                ...</td>\n",
       "    </tr>\n",
       "    <tr>\n",
       "      <th>G</th>\n",
       "      <td>6.674e-11 meter ** 2 * newton / kilogram ** 2</td>\n",
       "    </tr>\n",
       "    <tr>\n",
       "      <th>m_earth</th>\n",
       "      <td>5.972e+24 kilogram</td>\n",
       "    </tr>\n",
       "    <tr>\n",
       "      <th>m_apollo</th>\n",
       "      <td>13284 kilogram</td>\n",
       "    </tr>\n",
       "    <tr>\n",
       "      <th>t_0</th>\n",
       "      <td>0 second</td>\n",
       "    </tr>\n",
       "    <tr>\n",
       "      <th>t_end</th>\n",
       "      <td>100000 second</td>\n",
       "    </tr>\n",
       "  </tbody>\n",
       "</table>\n",
       "</div>"
      ],
      "text/plain": [
       "init        x                6.56886e+06\n",
       "y                ...\n",
       "G               6.674e-11 meter ** 2 * newton / kilogram ** 2\n",
       "m_earth                                    5.972e+24 kilogram\n",
       "m_apollo                                       13284 kilogram\n",
       "t_0                                                  0 second\n",
       "t_end                                           100000 second\n",
       "dtype: object"
      ]
     },
     "execution_count": 47,
     "metadata": {},
     "output_type": "execute_result"
    }
   ],
   "source": [
    "def make_system(params):\n",
    "    \"\"\"Make a system object.\n",
    "    \n",
    "    params: Params object with r_earth, epo, r_0, x0, y0,\n",
    "                vx0, vy0, G, m_earth, m_apollo, t_0, t_end\n",
    "               \n",
    "    returns: System object\n",
    "    \"\"\"\n",
    "    \n",
    "    unpack(params)\n",
    "    \n",
    "    init = State(x = x0,\n",
    "                 y = y0,\n",
    "                 vx = vx0,\n",
    "                 vy = vy0)\n",
    "    \n",
    "    sys = System(init=init,\n",
    "                 G=G,\n",
    "                 m_earth=m_earth,\n",
    "                 m_apollo=m_apollo,\n",
    "                 t_0=t_0,\n",
    "                 t_end=t_end)\n",
    "    return sys\n",
    "\n",
    "system = make_system(param)"
   ]
  },
  {
   "cell_type": "code",
   "execution_count": 48,
   "metadata": {},
   "outputs": [],
   "source": [
    "def universal_gravitation(state, system):\n",
    "    \"\"\"Computes gravitational force in our system.\n",
    "    \n",
    "    state: State object with distance r\n",
    "    system: System object with m_earth, m_apollo, and G\n",
    "    \"\"\"\n",
    "    x, y, vx, vy = state\n",
    "    unpack(system)\n",
    "    \n",
    "    pos = Vector(x, y)\n",
    "    \n",
    "    Fx, Fy = pol2cart(pos.angle, G * m_earth * m_apollo / pos.mag **2) \n",
    "    \n",
    "    force = Vector(Fx, Fy)\n",
    "    \n",
    "    return force"
   ]
  },
  {
   "cell_type": "code",
   "execution_count": 49,
   "metadata": {},
   "outputs": [
    {
     "data": {
      "text/html": [
       "[122703.05769108      0.        ] newton"
      ],
      "text/latex": [
       "$[122703.05769108      0.        ] newton$"
      ],
      "text/plain": [
       "<Quantity([122703.05769108      0.        ], 'newton')>"
      ]
     },
     "execution_count": 49,
     "metadata": {},
     "output_type": "execute_result"
    }
   ],
   "source": [
    "# Test our gravitation function to see if it seem reasonable.\n",
    "universal_gravitation(system[0], system)"
   ]
  },
  {
   "cell_type": "code",
   "execution_count": 50,
   "metadata": {},
   "outputs": [],
   "source": [
    "def slope_func(state, t, system):\n",
    "    \"\"\"Compute derivatives of the state.\n",
    "    \n",
    "    state: position, velocity\n",
    "    t: time\n",
    "    system: System object containing `g`\n",
    "    \n",
    "    returns: derivatives of y and v\n",
    "    \"\"\"\n",
    "    x, y, vx, vy = state\n",
    "    unpack(system)\n",
    "\n",
    "    acc_grav = universal_gravitation(state, system) / m_apollo\n",
    "\n",
    "    dydt = Vector(vx, vy)\n",
    "    dvdt = -acc_grav\n",
    "    \n",
    "    return dydt.x, dydt.y, dvdt.x, dvdt.y"
   ]
  },
  {
   "cell_type": "code",
   "execution_count": 51,
   "metadata": {},
   "outputs": [
    {
     "data": {
      "text/plain": [
       "(<Quantity(0.0, 'meter / second')>,\n",
       " <Quantity(-7792.0, 'meter / second')>,\n",
       " <Quantity(-9.236905878581915, 'newton / kilogram')>,\n",
       " <Quantity(-0.0, 'newton / kilogram')>)"
      ]
     },
     "execution_count": 51,
     "metadata": {},
     "output_type": "execute_result"
    }
   ],
   "source": [
    "# Always test the slope function!\n",
    "slope_func(init, 0, system)"
   ]
  },
  {
   "cell_type": "code",
   "execution_count": 52,
   "metadata": {},
   "outputs": [],
   "source": [
    "# make an event function to stop the simulation when the\n",
    "# apollo module crashes into the earth\n",
    "\n",
    "def event_func(state, t, system):\n",
    "    \"\"\"Error function used to stop the simulation when the\n",
    "        spacecraft crashes into the earth.\n",
    "    \n",
    "    state object: \n",
    "    current timestamp: \n",
    "    system object:\n",
    "               \n",
    "    returns: num that is 0 when crash occurs\n",
    "    \"\"\"\n",
    "    x, y, vx, vy = state\n",
    "    pos = Vector(x, y)\n",
    "    return pos.mag - r_earth"
   ]
  },
  {
   "cell_type": "code",
   "execution_count": 53,
   "metadata": {},
   "outputs": [
    {
     "data": {
      "text/html": [
       "190756.0 meter"
      ],
      "text/latex": [
       "$190756.0 meter$"
      ],
      "text/plain": [
       "<Quantity(190756.0, 'meter')>"
      ]
     },
     "execution_count": 53,
     "metadata": {},
     "output_type": "execute_result"
    }
   ],
   "source": [
    "event_func(init, 0, system)"
   ]
  },
  {
   "cell_type": "code",
   "execution_count": 54,
   "metadata": {},
   "outputs": [],
   "source": [
    "# Finally we can run the simulation\n",
    "system = make_system(param)\n",
    "results, details = run_ode_solver(system, slope_func, events=event_func)"
   ]
  },
  {
   "cell_type": "code",
   "execution_count": 55,
   "metadata": {},
   "outputs": [
    {
     "data": {
      "text/html": [
       "3467.7598572684724 second"
      ],
      "text/latex": [
       "$3467.7598572684724 second$"
      ],
      "text/plain": [
       "<Quantity(3467.7598572684724, 'second')>"
      ]
     },
     "execution_count": 55,
     "metadata": {},
     "output_type": "execute_result"
    }
   ],
   "source": [
    "# Here's how long it takes...\n",
    "\n",
    "t_final = get_last_label(results) * s"
   ]
  },
  {
   "cell_type": "code",
   "execution_count": 56,
   "metadata": {},
   "outputs": [
    {
     "data": {
      "text/html": [
       "0.9632666270190201 hour"
      ],
      "text/latex": [
       "$0.9632666270190201 hour$"
      ],
      "text/plain": [
       "<Quantity(0.9632666270190201, 'hour')>"
      ]
     },
     "execution_count": 56,
     "metadata": {},
     "output_type": "execute_result"
    }
   ],
   "source": [
    "# ... expressed in units we understand\n",
    "\n",
    "t_final.to(UNITS.hour)"
   ]
  },
  {
   "cell_type": "code",
   "execution_count": 57,
   "metadata": {},
   "outputs": [],
   "source": [
    "# Before plotting, we run the simulation again with `t_eval`\n",
    "ts = linspace(t_0, t_final, 1000)\n",
    "results, details = run_ode_solver(system, slope_func, events=event_func, t_eval=ts)"
   ]
  },
  {
   "cell_type": "code",
   "execution_count": 58,
   "metadata": {},
   "outputs": [],
   "source": [
    "def run_simulation():\n",
    "    \"\"\"Wrapper to run the simulation.\n",
    "               \n",
    "    returns: results in a Timeframe object\n",
    "    \"\"\"\n",
    "        \n",
    "    r_earth = 6.3781e6\n",
    "    epo = 190756\n",
    "\n",
    "    r_0 = (r_earth + epo)\n",
    "\n",
    "    init = State(x = r_0 * m,\n",
    "                 y = 0 * m,\n",
    "                 vx = 0 * m / s,\n",
    "                 vy = 7792 * m / s)\n",
    "    \n",
    "    system = System(init=init,\n",
    "                G=6.674e-11 * N / kg**2 * m**2,\n",
    "                m1=5.972e24 * kg,\n",
    "                m2=292865 * kg,\n",
    "                t_0=0 * s,\n",
    "                t_end=100000 * s)\n",
    "    \n",
    "    results, details = run_ode_solver(system, slope_func, events=event_func)\n",
    "    t_final = get_last_label(results) * s\n",
    "    t_final.to(UNITS.hour)\n",
    "    \n",
    "    ts = linspace(t_0, t_final, 1000)\n",
    "    results, details = run_ode_solver(system, \n",
    "                                      slope_func,\n",
    "                                      events=event_func,\n",
    "                                      t_eval=ts)\n",
    "    \n",
    "    return results"
   ]
  },
  {
   "cell_type": "code",
   "execution_count": 59,
   "metadata": {},
   "outputs": [],
   "source": [
    "# find altitude over time\n",
    "def get_alt(results):\n",
    "    \"\"\"Given a valid results TimeFrame, assemble a series of altitude values\n",
    "    \n",
    "    velocity: the initial velocity of the spacecraft in meters\n",
    "    \n",
    "               \n",
    "    returns: TimeSeries\n",
    "    \"\"\"\n",
    "    alt_tracker = TimeSeries()\n",
    "\n",
    "    for index, row in results.iterrows():\n",
    "        alt_tracker[index] = (Vector(row['x'], row['y']).mag - 6.3781e6)\n",
    "\n",
    "    return alt_tracker"
   ]
  },
  {
   "cell_type": "code",
   "execution_count": 71,
   "metadata": {},
   "outputs": [],
   "source": [
    "#wrap this plotting into a function\n",
    "def plot_orbit(simulation_results, earth, potential_path):\n",
    "    \"\"\"Pretty plot the results of the simulation.\n",
    "    \n",
    "    simulation_results: Timeframe object that is the result of the simulation\n",
    "    earth: bool, whether or not you want to draw the earth in the plot\n",
    "    potential_path: bool, whether or not you want to keep running the simulation\n",
    "        in a second stage after the ship crashes into the earth to see what would\n",
    "        have happened\n",
    "               \n",
    "    returns: tuple of two matplotlib figure objects\n",
    "    \"\"\"\n",
    "    x = simulation_results.x / 1000\n",
    "    y = simulation_results.y / 1000\n",
    "\n",
    "    \n",
    "    # plot x and y versus time of the simulation\n",
    "    # to show movement trends\n",
    "    fig1 = plt.figure(figsize=(4, 4))\n",
    "    ax1 = fig1.add_subplot(211)\n",
    "    ax1.plot(results.index / 60 / 60, x, label='x')\n",
    "    ax1.plot(results.index / 60 / 60, y, label='y')\n",
    "    ax1.set_ylabel(\"Position (km)\")\n",
    "    ax1.set_xlabel(\"Time (hours)\")\n",
    "    ax1.legend([\"x\", \"y\"])\n",
    "    ax1.set_title(\"Distance of apollo module from center of earth\");\n",
    "    \n",
    "    # plot x vs. y to show movement of the spacecraft\n",
    "    fig2 = plt.figure(figsize=(4, 8))\n",
    "    ax1 = fig2.add_subplot(211)\n",
    "    ax1.plot(x, y, \"r\")\n",
    "    ax1.set_ylabel(\"Y Position (km)\")\n",
    "    ax1.set_xlabel(\"X Position (km)\")\n",
    "    ax1.set_title(\"X and Y position of Apollo 11\")\n",
    "    \n",
    "    # add a circle to represent the earth\n",
    "    # the plot function didn't like using r_earth\n",
    "    if earth == True:\n",
    "        circle1 = plt.Circle((0, 0), radius=6.3781e6 / 1000, color='b')\n",
    "        ax1.add_artist(circle1)\n",
    "    \n",
    "    # plot altitude versus time to show change in alt over time\n",
    "    fig3 = plt.figure(figsize=(6, 8))\n",
    "    ax1 = fig3.add_subplot(211)\n",
    "    ax1.plot(simulation_results.index / 60 / 60, get_alt(simulation_results), label=\"altitude\")\n",
    "    ax1.set_ylabel(\"Altitude (km)\")\n",
    "    ax1.set_xlabel(\"Time (hrs)\")\n",
    "    ax1.set_title(\"Altiude Versus Time of Apollo 11\")\n",
    "    \n",
    "    \n",
    "    return fig1, fig2, fig3"
   ]
  },
  {
   "cell_type": "code",
   "execution_count": 72,
   "metadata": {},
   "outputs": [
    {
     "ename": "ValueError",
     "evalue": "too many values to unpack (expected 2)",
     "output_type": "error",
     "traceback": [
      "\u001b[0;31m---------------------------------------------------------------------------\u001b[0m",
      "\u001b[0;31mValueError\u001b[0m                                Traceback (most recent call last)",
      "\u001b[0;32m<ipython-input-72-3f8cf8da2478>\u001b[0m in \u001b[0;36m<module>\u001b[0;34m\u001b[0m\n\u001b[1;32m      1\u001b[0m \u001b[0;31m#results_blah = run_simulation()\u001b[0m\u001b[0;34m\u001b[0m\u001b[0;34m\u001b[0m\u001b[0;34m\u001b[0m\u001b[0m\n\u001b[0;32m----> 2\u001b[0;31m \u001b[0mplot1\u001b[0m\u001b[0;34m,\u001b[0m \u001b[0mplot2\u001b[0m \u001b[0;34m=\u001b[0m \u001b[0mplot_orbit\u001b[0m\u001b[0;34m(\u001b[0m\u001b[0mresults\u001b[0m\u001b[0;34m,\u001b[0m \u001b[0;32mTrue\u001b[0m\u001b[0;34m,\u001b[0m \u001b[0;32mTrue\u001b[0m\u001b[0;34m)\u001b[0m\u001b[0;34m\u001b[0m\u001b[0;34m\u001b[0m\u001b[0m\n\u001b[0m",
      "\u001b[0;31mValueError\u001b[0m: too many values to unpack (expected 2)"
     ]
    },
    {
     "data": {
      "image/png": "[encoded data removed]",
      "text/plain": [
       "<Figure size 288x288 with 1 Axes>"
      ]
     },
     "metadata": {
      "needs_background": "light"
     },
     "output_type": "display_data"
    },
    {
     "data": {
      "image/png": "[encoded data removed]",
      "text/plain": [
       "<Figure size 288x576 with 1 Axes>"
      ]
     },
     "metadata": {
      "needs_background": "light"
     },
     "output_type": "display_data"
    },
    {
     "data": {
      "image/png": "[encoded data removed]",
      "text/plain": [
       "<Figure size 432x576 with 1 Axes>"
      ]
     },
     "metadata": {
      "needs_background": "light"
     },
     "output_type": "display_data"
    }
   ],
   "source": [
    "#results_blah = run_simulation()\n",
    "plot1, plot2 = plot_orbit(results, True, True)"
   ]
  },
  {
   "cell_type": "markdown",
   "metadata": {},
   "source": [
    "## Optimizer - Mean Altitude Error\n",
    "Here we will try to optimize the craft's velocity in order to get as clean and sustainable EPO as possible. I.E an orbit which keeps the spacecraft as close to the ideal EPO orbit as possible\n",
    "  \n",
    "We will optimize for consistent altitude and see if that does the job.\n"
   ]
  },
  {
   "cell_type": "code",
   "execution_count": null,
   "metadata": {},
   "outputs": [],
   "source": [
    "# fresh params object to set up the system for optimization\n",
    "param = Params(r_earth = 6.3781e6 * m,\n",
    "                epo = 190756 * m,\n",
    "                r_0 = r_earth + epo,\n",
    "                x0 = r_0,\n",
    "                y0 = 0 * m,\n",
    "                vx0 = 0 * m / s,\n",
    "                vy0 = -7792 * m / s,\n",
    "                G=6.674e-11 * N / kg**2 * m**2,\n",
    "                m_earth=5.972e24 * kg,\n",
    "                m_apollo=13284 * kg,\n",
    "                t_0=0 * s,\n",
    "                t_end=100000 * s)"
   ]
  },
  {
   "cell_type": "code",
   "execution_count": null,
   "metadata": {},
   "outputs": [],
   "source": [
    "def run_velocity_varied(velocity, param):\n",
    "    \"\"\"Run the simulation with a specified initial velocity.\n",
    "    \n",
    "    velocity: the initial velocity of the spacecraft in meters\n",
    "    params: Params object with r_earth, epo, r_0, x0, y0,\n",
    "                vx0, vy0, G, m_earth, m_apollo, t_0, t_end\n",
    "               \n",
    "    returns: results TimeFrame\n",
    "    \"\"\"\n",
    "    \n",
    "    params = Params(param, vy0=velocity)\n",
    "    \n",
    "    system = make_system(params)\n",
    "    results, details = run_ode_solver(system, slope_func, events=event_func)\n",
    "    t_final = get_last_label(results) * s\n",
    "    t_final.to(UNITS.hour)\n",
    "    \n",
    "    ts = linspace(t_0, t_final, 1000)\n",
    "    results, details = run_ode_solver(system, slope_func, events=event_func, t_eval=ts)\n",
    "    return results"
   ]
  },
  {
   "cell_type": "code",
   "execution_count": null,
   "metadata": {},
   "outputs": [],
   "source": [
    "def error_func(velocity, params):\n",
    "    \"\"\"error function that seeks to optimize for ideal altitude\n",
    "    \n",
    "    velocity: the initial velocity of the spacecraft in meters\n",
    "    params: Params object with r_earth, epo, r_0, x0, y0,\n",
    "                vx0, vy0, G, m_earth, m_apollo, t_0, t_end\n",
    "               \n",
    "    returns: difference from ideal epo altitude\n",
    "    \"\"\"\n",
    "\n",
    "    results = run_velocity_varied(velocity, params)\n",
    "    alt_series = get_alt(results)\n",
    "    mean_epo = alt_series.mean()\n",
    "\n",
    "    return mean_epo - 190756"
   ]
  },
  {
   "cell_type": "code",
   "execution_count": 73,
   "metadata": {},
   "outputs": [
    {
     "name": "stdout",
     "output_type": "stream",
     "text": [
      "<class 'modsim.Params'>\n"
     ]
    },
    {
     "data": {
      "text/plain": [
       "-51462.66194474272"
      ]
     },
     "execution_count": 73,
     "metadata": {},
     "output_type": "execute_result"
    }
   ],
   "source": [
    "guess = 7792\n",
    "params_nodim = remove_units(param)\n",
    "error_func(guess, params_nodim)"
   ]
  },
  {
   "cell_type": "code",
   "execution_count": 74,
   "metadata": {},
   "outputs": [
    {
     "data": {
      "text/plain": [
       "array([7827.4953115])"
      ]
     },
     "execution_count": 74,
     "metadata": {},
     "output_type": "execute_result"
    }
   ],
   "source": [
    "res = fsolve(error_func, guess, params_nodim)"
   ]
  },
  {
   "cell_type": "code",
   "execution_count": 75,
   "metadata": {},
   "outputs": [
    {
     "data": {
      "text/plain": [
       "7827.495311499185"
      ]
     },
     "execution_count": 75,
     "metadata": {},
     "output_type": "execute_result"
    }
   ],
   "source": [
    "ideal_velocity = res[0]"
   ]
  },
  {
   "cell_type": "code",
   "execution_count": 76,
   "metadata": {},
   "outputs": [
    {
     "data": {
      "image/png": "[encoded data removed]",
      "text/plain": [
       "<Figure size 288x288 with 1 Axes>"
      ]
     },
     "metadata": {
      "needs_background": "light"
     },
     "output_type": "display_data"
    },
    {
     "data": {
      "image/png": "[encoded data removed]",
      "text/plain": [
       "<Figure size 288x576 with 1 Axes>"
      ]
     },
     "metadata": {
      "needs_background": "light"
     },
     "output_type": "display_data"
    },
    {
     "data": {
      "image/png": "[encoded data removed]",
      "text/plain": [
       "<Figure size 432x576 with 1 Axes>"
      ]
     },
     "metadata": {
      "needs_background": "light"
     },
     "output_type": "display_data"
    }
   ],
   "source": [
    "results = run_velocity_varied(ideal_velocity, params_nodim)\n",
    "plot1, plot2, plot3 = plot_orbit(results, True, True)"
   ]
  },
  {
   "cell_type": "markdown",
   "metadata": {},
   "source": [
    "### Result of velocity optimization\n",
    "\n",
    "By only optimizing for consistency with the ideal epo altitude, we find the best possible velocity for consistency but not for runtime before a crash."
   ]
  },
  {
   "cell_type": "code",
   "execution_count": null,
   "metadata": {},
   "outputs": [],
   "source": []
  },
  {
   "cell_type": "markdown",
   "metadata": {},
   "source": [
    "## Validation\n",
    "\n",
    "Use the mission flight report as validation. May just be a plot to diagram comparison or a quote from the report about flight statistics."
   ]
  },
  {
   "cell_type": "markdown",
   "metadata": {},
   "source": [
    "## Result"
   ]
  },
  {
   "cell_type": "markdown",
   "metadata": {},
   "source": [
    "## Interpretation"
   ]
  }
 ],
 "metadata": {
  "kernelspec": {
   "display_name": "Python 3",
   "language": "python",
   "name": "python3"
  },
  "language_info": {
   "codemirror_mode": {
    "name": "ipython",
    "version": 3
   },
   "file_extension": ".py",
   "mimetype": "text/x-python",
   "name": "python",
   "nbconvert_exporter": "python",
   "pygments_lexer": "ipython3",
   "version": "3.6.7"
  }
 },
 "nbformat": 4,
 "nbformat_minor": 2
}
